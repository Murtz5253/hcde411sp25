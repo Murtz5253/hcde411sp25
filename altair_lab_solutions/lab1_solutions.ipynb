{
 "cells": [
  {
   "cell_type": "markdown",
   "id": "7888ddd2-3633-4b50-83b1-90f7249c6b6e",
   "metadata": {},
   "source": [
    "# Lab 1: Introduction to Altair (Solutions)"
   ]
  },
  {
   "cell_type": "code",
   "execution_count": null,
   "id": "716ee1de-ead1-48b5-b24e-2a9d3191036c",
   "metadata": {},
   "outputs": [],
   "source": [
    "import pandas as pd\n",
    "import altair as alt"
   ]
  },
  {
   "cell_type": "markdown",
   "id": "ffffca69-8749-4ba2-b0de-eb5ec41f4223",
   "metadata": {},
   "source": [
    "## Exercise 1: Reading in the data"
   ]
  },
  {
   "cell_type": "code",
   "execution_count": null,
   "id": "61b32dcf-9530-40b4-98bf-cbd3a21d1cd4",
   "metadata": {},
   "outputs": [],
   "source": [
    "from vega_datasets import data\n",
    "weather = data.seattle_weather()\n",
    "weather.head()"
   ]
  },
  {
   "cell_type": "markdown",
   "id": "f771408f-032f-435c-8e05-755a6b9b9b4d",
   "metadata": {},
   "source": [
    "## Exercise 2: A basic scatter plot"
   ]
  },
  {
   "cell_type": "code",
   "execution_count": null,
   "id": "87e97d18-6327-4e38-bec9-84abe5f08f7f",
   "metadata": {},
   "outputs": [],
   "source": [
    "# Fill in the skeleton below to generate the desired scatter plot\n",
    "alt.Chart(weather).mark_point().encode(\n",
    "    alt.X('temp_min'),\n",
    "    alt.Y('temp_max')\n",
    ")"
   ]
  },
  {
   "cell_type": "markdown",
   "id": "bc6c065d-0129-40a9-b3ae-0b4fd905c82e",
   "metadata": {},
   "source": [
    "## Exercise 3: A line chart"
   ]
  },
  {
   "cell_type": "code",
   "execution_count": null,
   "id": "e104253c-ed77-4b07-a5b0-0397591fd75d",
   "metadata": {},
   "outputs": [],
   "source": [
    "alt.Chart(weather).mark_line().encode(\n",
    "    alt.X('date'),\n",
    "    alt.Y('precipitation')\n",
    ")"
   ]
  },
  {
   "cell_type": "markdown",
   "id": "3c4c6c0d-fcad-460b-acdd-24422d514c94",
   "metadata": {},
   "source": [
    "## Exercise 4: A line chart (continued)"
   ]
  },
  {
   "cell_type": "markdown",
   "id": "aff74459-81fe-4f6f-8d80-657ef79aeb9e",
   "metadata": {},
   "source": [
    "The reason our line chart appears so odd is because we are cramming a huge amount of data points (notice that the dates are individual days) into a very small space. There are a few different ways to get around this, some better than others, depending on your visualization goals:\n",
    "- You could visualize just a subset of the dates, homing in on a single year, for instance.\n",
    "- If you want to keep all the dates, you could make the graph wider. However, you can only do so much of this before it becomes annoying, or even too big, as per a viewer's screen.\n",
    "- You could use the same time period, but aggregate the data somewhat to reduce the number of points that get plotted (for example, taking the average precipitation for each week and plotting that instead of the daily measures).\n",
    "\n",
    "There are also other possibilities, but the above are a few common examples."
   ]
  },
  {
   "cell_type": "markdown",
   "id": "e00169b0-c478-441b-b871-f9f9cdd4a225",
   "metadata": {},
   "source": [
    "## Exercise 5: An aggregate bar chart"
   ]
  },
  {
   "cell_type": "code",
   "execution_count": null,
   "id": "6d380d6b-1a1a-42d6-8f90-694b43b5c357",
   "metadata": {},
   "outputs": [],
   "source": [
    "alt.Chart(weather).mark_bar().encode(\n",
    "    alt.X('weather'),\n",
    "    alt.Y('mean(precipitation)')\n",
    ")"
   ]
  }
 ],
 "metadata": {
  "kernelspec": {
   "display_name": "Python 3",
   "language": "python",
   "name": "python3"
  },
  "language_info": {
   "codemirror_mode": {
    "name": "ipython",
    "version": 3
   },
   "file_extension": ".py",
   "mimetype": "text/x-python",
   "name": "python",
   "nbconvert_exporter": "python",
   "pygments_lexer": "ipython3",
   "version": "3.8.8"
  }
 },
 "nbformat": 4,
 "nbformat_minor": 5
}
